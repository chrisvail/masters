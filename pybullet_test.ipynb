{
 "cells": [
  {
   "cell_type": "markdown",
   "metadata": {},
   "source": [
    "# Testing pybullet\n",
    "\n",
    "This is used to test various aspects of pybullet simulator and understand how things work. \n",
    "Code from here can then be used to create the training loop used for the masters project. This will be linked with the reinforcement learning notebook found in this directory to create the final learning system. Additionally systems will be required eventually but its not clear (but unlikely) if the vision systems will be needed to be implemented in this simulation.\n",
    "\n",
    "## Details\n",
    "More details about experiments will go in the below list:\n",
    "1. Hello world - pybullet version\n",
    "\n",
    "## To do\n",
    "- Load custom urdf files\n",
    "- Control joints in urdf file\n",
    "- Access environment states\n",
    "- Create custom camera\n",
    "- Attach camera to arm wrist\n",
    "- Outputting camera data\n",
    "- Setting / visualising waypoints / end poses\n",
    "- Adding textures\n",
    "- Randomising textures\n",
    "\n",
    "---\n"
   ]
  },
  {
   "cell_type": "markdown",
   "metadata": {},
   "source": [
    "### 1. Hello, world\n",
    "The below cell is copied directly from the pybullet documentation and creates a simple simulation. It does the following:\n",
    "1. Connects to a GUI pybullet sim\n",
    "2. Sets gravity\n",
    "3. Loads the ground plane\n",
    "4. Loads and poses the default r2d2 urdf \n",
    "5. Steps simulation 10,000 times \n",
    "6. Gets position and orientation data from simulation \n",
    "7. Disconnects"
   ]
  },
  {
   "cell_type": "code",
   "execution_count": null,
   "metadata": {},
   "outputs": [],
   "source": [
    "import pybullet as p\n",
    "import time\n",
    "import pybullet_data\n",
    "physicsClient = p.connect(p.GUI)#or p.DIRECT for non-graphical version\n",
    "# p.setAdditionalSearchPath(pybullet_data.getDataPath()) #optionally\n",
    "p.setGravity(0,0,-10)\n",
    "planeId = p.loadURDF(\"plane.urdf\")\n",
    "startPos = [0,0,1]\n",
    "startOrientation = p.getQuaternionFromEuler([0,0,0])\n",
    "boxId = p.loadURDF(\"r2d2.urdf\",startPos, startOrientation)\n",
    "#set the center of mass frame (loadURDF sets base link frame) startPos/Ornp.resetBasePositionAndOrientation(boxId, startPos, startOrientation)\n",
    "for i in range (10000):\n",
    "    p.stepSimulation()\n",
    "    time.sleep(1./10000.)\n",
    "cubePos, cubeOrn = p.getBasePositionAndOrientation(boxId)\n",
    "print(cubePos,cubeOrn)\n",
    "p.disconnect()\n"
   ]
  }
 ],
 "metadata": {
  "language_info": {
   "name": "python"
  },
  "orig_nbformat": 4
 },
 "nbformat": 4,
 "nbformat_minor": 2
}
